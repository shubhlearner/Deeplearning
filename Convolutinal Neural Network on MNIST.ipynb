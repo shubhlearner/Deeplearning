{
 "cells": [
  {
   "cell_type": "code",
   "execution_count": 1,
   "metadata": {
    "colab": {
     "base_uri": "https://localhost:8080/",
     "height": 551
    },
    "colab_type": "code",
    "executionInfo": {
     "elapsed": 1970705,
     "status": "ok",
     "timestamp": 1524577821923,
     "user": {
      "displayName": "Applied AI Course",
      "photoUrl": "//lh3.googleusercontent.com/-EsJzSyawCkQ/AAAAAAAAAAI/AAAAAAAAAWk/jhKHALKaHag/s50-c-k-no/photo.jpg",
      "userId": "116292885805316472049"
     },
     "user_tz": -330
    },
    "id": "H9EU0e8yzFOm",
    "outputId": "b9a7331d-3a52-4991-f4a2-eaa64e288eb9"
   },
   "outputs": [
    {
     "name": "stderr",
     "output_type": "stream",
     "text": [
      "Using TensorFlow backend.\n"
     ]
    },
    {
     "name": "stdout",
     "output_type": "stream",
     "text": [
      "Downloading data from https://s3.amazonaws.com/img-datasets/mnist.npz\n",
      "11493376/11490434 [==============================] - 0s 0us/step\n",
      "x_train shape: (60000, 28, 28, 1)\n",
      "60000 train samples\n",
      "10000 test samples\n",
      "Train on 60000 samples, validate on 10000 samples\n",
      "Epoch 1/12\n",
      "60000/60000 [==============================] - 6s 97us/step - loss: 0.2586 - accuracy: 0.9202 - val_loss: 0.0564 - val_accuracy: 0.9828\n",
      "Epoch 2/12\n",
      "60000/60000 [==============================] - 4s 62us/step - loss: 0.0882 - accuracy: 0.9736 - val_loss: 0.0434 - val_accuracy: 0.9858\n",
      "Epoch 3/12\n",
      "60000/60000 [==============================] - 4s 62us/step - loss: 0.0694 - accuracy: 0.9797 - val_loss: 0.0326 - val_accuracy: 0.9891\n",
      "Epoch 4/12\n",
      "60000/60000 [==============================] - 4s 62us/step - loss: 0.0548 - accuracy: 0.9836 - val_loss: 0.0314 - val_accuracy: 0.9897\n",
      "Epoch 5/12\n",
      "60000/60000 [==============================] - 4s 62us/step - loss: 0.0464 - accuracy: 0.9862 - val_loss: 0.0321 - val_accuracy: 0.9893\n",
      "Epoch 6/12\n",
      "60000/60000 [==============================] - 4s 63us/step - loss: 0.0425 - accuracy: 0.9874 - val_loss: 0.0268 - val_accuracy: 0.9909\n",
      "Epoch 7/12\n",
      "60000/60000 [==============================] - 4s 63us/step - loss: 0.0380 - accuracy: 0.9887 - val_loss: 0.0274 - val_accuracy: 0.9912\n",
      "Epoch 8/12\n",
      "60000/60000 [==============================] - 4s 63us/step - loss: 0.0333 - accuracy: 0.9897 - val_loss: 0.0257 - val_accuracy: 0.9919\n",
      "Epoch 9/12\n",
      "60000/60000 [==============================] - 4s 62us/step - loss: 0.0314 - accuracy: 0.9901 - val_loss: 0.0274 - val_accuracy: 0.9909\n",
      "Epoch 10/12\n",
      "60000/60000 [==============================] - 4s 62us/step - loss: 0.0286 - accuracy: 0.9912 - val_loss: 0.0266 - val_accuracy: 0.9922\n",
      "Epoch 11/12\n",
      "60000/60000 [==============================] - 4s 62us/step - loss: 0.0288 - accuracy: 0.9913 - val_loss: 0.0295 - val_accuracy: 0.9911\n",
      "Epoch 12/12\n",
      "60000/60000 [==============================] - 4s 61us/step - loss: 0.0267 - accuracy: 0.9916 - val_loss: 0.0284 - val_accuracy: 0.9914\n",
      "Test loss: 0.02841570203872643\n",
      "Test accuracy: 0.9914000034332275\n"
     ]
    }
   ],
   "source": [
    "# Credits: https://github.com/keras-team/keras/blob/master/examples/mnist_cnn.py\n",
    "\n",
    "from __future__ import print_function\n",
    "import keras\n",
    "from keras.datasets import mnist\n",
    "from keras.models import Sequential\n",
    "from keras.layers import Dense, Dropout, Flatten\n",
    "from keras.layers import Conv2D, MaxPooling2D\n",
    "from keras import backend as K\n",
    "\n",
    "batch_size = 128\n",
    "num_classes = 10\n",
    "epochs = 12\n",
    "\n",
    "# input image dimensions\n",
    "img_rows, img_cols = 28, 28\n",
    "\n",
    "# the data, split between train and test sets\n",
    "(x_train, y_train), (x_test, y_test) = mnist.load_data()\n",
    "\n",
    "if K.image_data_format() == 'channels_first':\n",
    "    x_train = x_train.reshape(x_train.shape[0], 1, img_rows, img_cols)\n",
    "    x_test = x_test.reshape(x_test.shape[0], 1, img_rows, img_cols)\n",
    "    input_shape = (1, img_rows, img_cols)\n",
    "else:\n",
    "    x_train = x_train.reshape(x_train.shape[0], img_rows, img_cols, 1)\n",
    "    x_test = x_test.reshape(x_test.shape[0], img_rows, img_cols, 1)\n",
    "    input_shape = (img_rows, img_cols, 1)\n",
    "\n",
    "x_train = x_train.astype('float32')\n",
    "x_test = x_test.astype('float32')\n",
    "x_train /= 255\n",
    "x_test /= 255\n",
    "print('x_train shape:', x_train.shape)\n",
    "print(x_train.shape[0], 'train samples')\n",
    "print(x_test.shape[0], 'test samples')\n",
    "\n",
    "# convert class vectors to binary class matrices\n",
    "y_train = keras.utils.to_categorical(y_train, num_classes)\n",
    "y_test = keras.utils.to_categorical(y_test, num_classes)\n",
    "\n",
    "model = Sequential()\n",
    "model.add(Conv2D(32, kernel_size=(3, 3),\n",
    "                 activation='relu',\n",
    "                 input_shape=input_shape))\n",
    "model.add(Conv2D(64, (3, 3), activation='relu'))\n",
    "model.add(MaxPooling2D(pool_size=(2, 2)))\n",
    "model.add(Dropout(0.25))\n",
    "model.add(Flatten())\n",
    "model.add(Dense(128, activation='relu'))\n",
    "model.add(Dropout(0.5))\n",
    "model.add(Dense(num_classes, activation='softmax'))\n",
    "\n",
    "model.compile(loss=keras.losses.categorical_crossentropy,\n",
    "              optimizer=keras.optimizers.Adadelta(),\n",
    "              metrics=['accuracy'])\n",
    "\n",
    "history =  model.fit(x_train, y_train,\n",
    "          batch_size=batch_size,\n",
    "          epochs=epochs,\n",
    "          verbose=1,\n",
    "          validation_data=(x_test, y_test))\n",
    "score = model.evaluate(x_test, y_test, verbose=0)\n",
    "print('Test loss:', score[0])\n",
    "print('Test accuracy:', score[1])"
   ]
  },
  {
   "cell_type": "code",
   "execution_count": 2,
   "metadata": {},
   "outputs": [],
   "source": [
    "def plt_dynamic(x, vy, ty, ax, colors=['b']):\n",
    "    ax.plot(x, vy, 'b', label=\"Validation Loss\")\n",
    "    ax.plot(x, ty, 'r', label=\"Train Loss\")\n",
    "    plt.legend()\n",
    "    plt.grid()\n",
    "    fig.canvas.draw()"
   ]
  },
  {
   "cell_type": "code",
   "execution_count": 3,
   "metadata": {},
   "outputs": [
    {
     "data": {
      "image/png": "[encoded data removed]",
      "text/plain": [
       "<Figure size 432x288 with 1 Axes>"
      ]
     },
     "metadata": {
      "needs_background": "light"
     },
     "output_type": "display_data"
    }
   ],
   "source": [
    "import matplotlib.pyplot as plt\n",
    "\n",
    "fig,ax = plt.subplots(1,1)\n",
    "ax.set_xlabel('epoch') ; ax.set_ylabel('Categorical Crossentropy Loss')\n",
    "\n",
    "# list of epoch numbers\n",
    "x = list(range(1,epochs+1))\n",
    "\n",
    "vy = history.history['val_loss']\n",
    "ty = history.history['loss']\n",
    "plt_dynamic(x, vy, ty, ax)"
   ]
  },
  {
   "cell_type": "markdown",
   "metadata": {},
   "source": [
    "## Assignment"
   ]
  },
  {
   "cell_type": "markdown",
   "metadata": {},
   "source": [
    "## Model 1:\n",
    "Architecture:-\n",
    "Input (28,28,1) ->(3, 3) Conv, 32 -> (3, 3) Conv, 64 -> Pool/2 ->(3, 3) Conv, 128 ->Dropout (0.25) -> Flatten -> Dense, 256 -> Dropout (0.5) -> Softmax"
   ]
  },
  {
   "cell_type": "code",
   "execution_count": 4,
   "metadata": {},
   "outputs": [
    {
     "name": "stdout",
     "output_type": "stream",
     "text": [
      "Train on 60000 samples, validate on 10000 samples\n",
      "Epoch 1/12\n",
      "60000/60000 [==============================] - 7s 115us/step - loss: 0.1925 - accuracy: 0.9400 - val_loss: 0.0412 - val_accuracy: 0.9861\n",
      "Epoch 2/12\n",
      "60000/60000 [==============================] - 6s 101us/step - loss: 0.0537 - accuracy: 0.9842 - val_loss: 0.0362 - val_accuracy: 0.9872\n",
      "Epoch 3/12\n",
      "60000/60000 [==============================] - 6s 101us/step - loss: 0.0376 - accuracy: 0.9886 - val_loss: 0.0285 - val_accuracy: 0.9904\n",
      "Epoch 4/12\n",
      "60000/60000 [==============================] - 6s 100us/step - loss: 0.0291 - accuracy: 0.9910 - val_loss: 0.0283 - val_accuracy: 0.9899\n",
      "Epoch 5/12\n",
      "60000/60000 [==============================] - 6s 101us/step - loss: 0.0235 - accuracy: 0.9930 - val_loss: 0.0226 - val_accuracy: 0.9915\n",
      "Epoch 6/12\n",
      "60000/60000 [==============================] - 6s 101us/step - loss: 0.0190 - accuracy: 0.9937 - val_loss: 0.0217 - val_accuracy: 0.9925\n",
      "Epoch 7/12\n",
      "60000/60000 [==============================] - 6s 101us/step - loss: 0.0157 - accuracy: 0.9951 - val_loss: 0.0221 - val_accuracy: 0.9925\n",
      "Epoch 8/12\n",
      "60000/60000 [==============================] - 6s 101us/step - loss: 0.0130 - accuracy: 0.9957 - val_loss: 0.0203 - val_accuracy: 0.9930\n",
      "Epoch 9/12\n",
      "60000/60000 [==============================] - 6s 101us/step - loss: 0.0110 - accuracy: 0.9967 - val_loss: 0.0244 - val_accuracy: 0.9934\n",
      "Epoch 10/12\n",
      "60000/60000 [==============================] - 6s 102us/step - loss: 0.0095 - accuracy: 0.9969 - val_loss: 0.0236 - val_accuracy: 0.9937\n",
      "Epoch 11/12\n",
      "60000/60000 [==============================] - 6s 102us/step - loss: 0.0090 - accuracy: 0.9972 - val_loss: 0.0256 - val_accuracy: 0.9934\n",
      "Epoch 12/12\n",
      "60000/60000 [==============================] - 6s 101us/step - loss: 0.0075 - accuracy: 0.9976 - val_loss: 0.0260 - val_accuracy: 0.9928\n",
      "Test loss: 0.02597640708970764\n",
      "Test accuracy: 0.9927999973297119\n"
     ]
    }
   ],
   "source": [
    "model = Sequential()\n",
    "model.add(Conv2D(32, kernel_size=(3, 3),\n",
    "                 activation='relu',\n",
    "                 input_shape=input_shape, padding='same'))\n",
    "model.add(Conv2D(64, (3, 3), activation='relu', padding='same'))\n",
    "model.add(MaxPooling2D(pool_size=(2, 2), strides=(2,2)))\n",
    "model.add(Conv2D(128, kernel_size=(3, 3),activation='relu', padding='same'))\n",
    "model.add(Dropout(0.25))\n",
    "model.add(Flatten())\n",
    "model.add(Dense(256, activation='relu'))\n",
    "model.add(Dropout(0.4))\n",
    "model.add(Dense(num_classes, activation='softmax'))\n",
    "\n",
    "model.compile(loss=keras.losses.categorical_crossentropy,\n",
    "              optimizer=keras.optimizers.Adadelta(),\n",
    "              metrics=['accuracy'])\n",
    "\n",
    "history = model.fit(x_train, y_train, batch_size=batch_size, epochs=epochs, verbose=1,\n",
    "          validation_data=(x_test, y_test))\n",
    "score = model.evaluate(x_test, y_test, verbose=0)\n",
    "print('Test loss:', score[0])\n",
    "print('Test accuracy:', score[1])"
   ]
  },
  {
   "cell_type": "code",
   "execution_count": 5,
   "metadata": {},
   "outputs": [
    {
     "data": {
      "image/png": "[encoded data removed]",
      "text/plain": [
       "<Figure size 432x288 with 1 Axes>"
      ]
     },
     "metadata": {
      "needs_background": "light"
     },
     "output_type": "display_data"
    }
   ],
   "source": [
    "fig,ax = plt.subplots(1,1)\n",
    "ax.set_xlabel('epoch') ; ax.set_ylabel('Categorical Crossentropy Loss')\n",
    "\n",
    "# list of epoch numbers\n",
    "x = list(range(1,epochs+1))\n",
    "\n",
    "vy = history.history['val_loss']\n",
    "ty = history.history['loss']\n",
    "plt_dynamic(x, vy, ty, ax)"
   ]
  },
  {
   "cell_type": "markdown",
   "metadata": {},
   "source": [
    "## Model 2:\n",
    "Architecture:-\n",
    "Input (28,28,1) ->(5, 5) Conv, 32 -> (5, 5) Conv, 64 -> Pool/2 ->(5, 5) Conv, 96 -> (5, 5) Conv, 128 -> (5, 5) Conv, 224 ->\n",
    "Dropout (0.3) -> Flatten -> Dense, 256 -> Dropout (0.5) -> Softmax\n",
    "\n"
   ]
  },
  {
   "cell_type": "code",
   "execution_count": 6,
   "metadata": {},
   "outputs": [
    {
     "name": "stdout",
     "output_type": "stream",
     "text": [
      "Train on 60000 samples, validate on 10000 samples\n",
      "Epoch 1/12\n",
      "60000/60000 [==============================] - 14s 228us/step - loss: 0.2925 - accuracy: 0.9073 - val_loss: 0.0420 - val_accuracy: 0.9873\n",
      "Epoch 2/12\n",
      "60000/60000 [==============================] - 13s 217us/step - loss: 0.0554 - accuracy: 0.9833 - val_loss: 0.0256 - val_accuracy: 0.9919\n",
      "Epoch 3/12\n",
      "60000/60000 [==============================] - 13s 216us/step - loss: 0.0355 - accuracy: 0.9894 - val_loss: 0.0247 - val_accuracy: 0.9926\n",
      "Epoch 4/12\n",
      "60000/60000 [==============================] - 13s 214us/step - loss: 0.0274 - accuracy: 0.9916 - val_loss: 0.0249 - val_accuracy: 0.9924\n",
      "Epoch 5/12\n",
      "60000/60000 [==============================] - 13s 215us/step - loss: 0.0205 - accuracy: 0.9934 - val_loss: 0.0182 - val_accuracy: 0.9944\n",
      "Epoch 6/12\n",
      "60000/60000 [==============================] - 13s 215us/step - loss: 0.0171 - accuracy: 0.9950 - val_loss: 0.0208 - val_accuracy: 0.9934\n",
      "Epoch 7/12\n",
      "60000/60000 [==============================] - 13s 215us/step - loss: 0.0143 - accuracy: 0.9958 - val_loss: 0.0223 - val_accuracy: 0.9944\n",
      "Epoch 8/12\n",
      "60000/60000 [==============================] - 13s 215us/step - loss: 0.0121 - accuracy: 0.9965 - val_loss: 0.0189 - val_accuracy: 0.9941\n",
      "Epoch 9/12\n",
      "60000/60000 [==============================] - 13s 215us/step - loss: 0.0099 - accuracy: 0.9970 - val_loss: 0.0219 - val_accuracy: 0.9938\n",
      "Epoch 10/12\n",
      "60000/60000 [==============================] - 13s 215us/step - loss: 0.0093 - accuracy: 0.9972 - val_loss: 0.0280 - val_accuracy: 0.9934\n",
      "Epoch 11/12\n",
      "60000/60000 [==============================] - 13s 215us/step - loss: 0.0071 - accuracy: 0.9979 - val_loss: 0.0276 - val_accuracy: 0.9936\n",
      "Epoch 12/12\n",
      "60000/60000 [==============================] - 13s 215us/step - loss: 0.0063 - accuracy: 0.9980 - val_loss: 0.0188 - val_accuracy: 0.9956\n",
      "Test loss: 0.018757601028419106\n",
      "Test accuracy: 0.9955999851226807\n"
     ]
    }
   ],
   "source": [
    "model = Sequential()\n",
    "model.add(Conv2D(32, kernel_size=(5, 5), activation='relu', input_shape=input_shape, padding='same'))\n",
    "model.add(Conv2D(64, (5, 5), activation='relu', padding='same'))\n",
    "model.add(MaxPooling2D(pool_size=(2, 2), strides=(2,2)))\n",
    "model.add(Conv2D(96, kernel_size=(5, 5),activation='relu', padding='same'))\n",
    "model.add(Conv2D(128, (5, 5), activation='relu', padding='same'))\n",
    "model.add(Conv2D(224, kernel_size=(5, 5),activation='relu', padding='same'))\n",
    "model.add(Dropout(0.3))\n",
    "model.add(Flatten())\n",
    "model.add(Dense(256, activation='relu'))\n",
    "model.add(Dropout(0.5))\n",
    "model.add(Dense(num_classes, activation='softmax'))\n",
    "\n",
    "model.compile(loss=keras.losses.categorical_crossentropy,\n",
    "              optimizer=keras.optimizers.Adadelta(),\n",
    "              metrics=['accuracy'])\n",
    "\n",
    "history = model.fit(x_train, y_train, batch_size=batch_size, epochs=epochs, verbose=1,\n",
    "          validation_data=(x_test, y_test))\n",
    "score = model.evaluate(x_test, y_test, verbose=0)\n",
    "print('Test loss:', score[0])\n",
    "print('Test accuracy:', score[1])"
   ]
  },
  {
   "cell_type": "code",
   "execution_count": 7,
   "metadata": {},
   "outputs": [
    {
     "data": {
      "image/png": "[encoded data removed]",
      "text/plain": [
       "<Figure size 432x288 with 1 Axes>"
      ]
     },
     "metadata": {
      "needs_background": "light"
     },
     "output_type": "display_data"
    }
   ],
   "source": [
    "fig,ax = plt.subplots(1,1)\n",
    "ax.set_xlabel('epoch') ; ax.set_ylabel('Categorical Crossentropy Loss')\n",
    "\n",
    "# list of epoch numbers\n",
    "x = list(range(1,epochs+1))\n",
    "\n",
    "vy = history.history['val_loss']\n",
    "ty = history.history['loss']\n",
    "plt_dynamic(x, vy, ty, ax)"
   ]
  },
  {
   "cell_type": "markdown",
   "metadata": {},
   "source": [
    "## Model 3:\n",
    "Architecture:-\n",
    "Input (28,28,1) ->(7, 7) Conv, 32 -> (7, 7) Conv, 64 -> Pool/2 ->(7, 7) Conv, 96 -> (7, 7) Conv, 128 -> Pool/2 ->(7, 7) Conv, 224 -> (7, 7) Conv, 256 -> (7, 7) Conv, 256 ->Dropout (0.3) -> Flatten -> Dense, 256 -> Dropout (0.5) -> Softmax"
   ]
  },
  {
   "cell_type": "code",
   "execution_count": 8,
   "metadata": {},
   "outputs": [
    {
     "name": "stdout",
     "output_type": "stream",
     "text": [
      "Train on 60000 samples, validate on 10000 samples\n",
      "Epoch 1/12\n",
      "60000/60000 [==============================] - 34s 562us/step - loss: 0.6478 - accuracy: 0.7778 - val_loss: 0.0825 - val_accuracy: 0.9762\n",
      "Epoch 2/12\n",
      "60000/60000 [==============================] - 32s 532us/step - loss: 0.0606 - accuracy: 0.9832 - val_loss: 0.0345 - val_accuracy: 0.9905\n",
      "Epoch 3/12\n",
      "60000/60000 [==============================] - 32s 533us/step - loss: 0.0380 - accuracy: 0.9898 - val_loss: 0.0250 - val_accuracy: 0.9927\n",
      "Epoch 4/12\n",
      "60000/60000 [==============================] - 32s 531us/step - loss: 0.0267 - accuracy: 0.9924 - val_loss: 0.0257 - val_accuracy: 0.9931\n",
      "Epoch 5/12\n",
      "60000/60000 [==============================] - 32s 532us/step - loss: 0.0203 - accuracy: 0.9942 - val_loss: 0.0217 - val_accuracy: 0.9935\n",
      "Epoch 6/12\n",
      "60000/60000 [==============================] - 32s 533us/step - loss: 0.0147 - accuracy: 0.9959 - val_loss: 0.0222 - val_accuracy: 0.9933\n",
      "Epoch 7/12\n",
      "60000/60000 [==============================] - 32s 532us/step - loss: 0.0128 - accuracy: 0.9964 - val_loss: 0.0213 - val_accuracy: 0.9947\n",
      "Epoch 8/12\n",
      "60000/60000 [==============================] - 32s 531us/step - loss: 0.0096 - accuracy: 0.9973 - val_loss: 0.0364 - val_accuracy: 0.9922\n",
      "Epoch 9/12\n",
      "60000/60000 [==============================] - 32s 531us/step - loss: 0.0073 - accuracy: 0.9979 - val_loss: 0.0259 - val_accuracy: 0.9947\n",
      "Epoch 10/12\n",
      "60000/60000 [==============================] - 32s 536us/step - loss: 0.0056 - accuracy: 0.9982 - val_loss: 0.0255 - val_accuracy: 0.9951\n",
      "Epoch 11/12\n",
      "60000/60000 [==============================] - 33s 549us/step - loss: 0.0058 - accuracy: 0.9981 - val_loss: 0.0251 - val_accuracy: 0.9940\n",
      "Epoch 12/12\n",
      "60000/60000 [==============================] - 33s 548us/step - loss: 0.0045 - accuracy: 0.9987 - val_loss: 0.0238 - val_accuracy: 0.9949\n",
      "Test loss: 0.023798746920220822\n",
      "Test accuracy: 0.9948999881744385\n"
     ]
    }
   ],
   "source": [
    "model = Sequential()\n",
    "model.add(Conv2D(32, kernel_size=(7, 7), activation='relu', input_shape=input_shape, padding='same'))\n",
    "model.add(Conv2D(64, (7, 7), activation='relu', padding='same'))\n",
    "model.add(MaxPooling2D(pool_size=(2, 2), strides=(2,2)))\n",
    "model.add(Conv2D(96, kernel_size=(7, 7),activation='relu', padding='same'))\n",
    "model.add(Conv2D(128, (7, 7), activation='relu', padding='same'))\n",
    "model.add(MaxPooling2D(pool_size=(2, 2), strides=(2,2)))\n",
    "model.add(Conv2D(224, kernel_size=(7, 7),activation='relu', padding='same'))\n",
    "model.add(Conv2D(512, kernel_size=(7, 7),activation='relu', padding='same'))\n",
    "model.add(Conv2D(512, kernel_size=(7, 7),activation='relu', padding='same'))\n",
    "model.add(Dropout(0.3))\n",
    "model.add(Flatten())\n",
    "model.add(Dense(256, activation='relu'))\n",
    "model.add(Dropout(0.5))\n",
    "model.add(Dense(num_classes, activation='softmax'))\n",
    "\n",
    "model.compile(loss=keras.losses.categorical_crossentropy,\n",
    "              optimizer=keras.optimizers.Adadelta(),\n",
    "              metrics=['accuracy'])\n",
    "\n",
    "history = model.fit(x_train, y_train, batch_size=batch_size, epochs=epochs, verbose=1,\n",
    "          validation_data=(x_test, y_test))\n",
    "score = model.evaluate(x_test, y_test, verbose=0)\n",
    "print('Test loss:', score[0])\n",
    "print('Test accuracy:', score[1])"
   ]
  },
  {
   "cell_type": "code",
   "execution_count": 9,
   "metadata": {},
   "outputs": [
    {
     "data": {
      "image/png": "[encoded data removed]",
      "text/plain": [
       "<Figure size 432x288 with 1 Axes>"
      ]
     },
     "metadata": {
      "needs_background": "light"
     },
     "output_type": "display_data"
    }
   ],
   "source": [
    "fig,ax = plt.subplots(1,1)\n",
    "ax.set_xlabel('epoch') ; ax.set_ylabel('Categorical Crossentropy Loss')\n",
    "\n",
    "# list of epoch numbers\n",
    "x = list(range(1,epochs+1))\n",
    "\n",
    "vy = history.history['val_loss']\n",
    "ty = history.history['loss']\n",
    "plt_dynamic(x, vy, ty, ax)"
   ]
  },
  {
   "cell_type": "markdown",
   "metadata": {},
   "source": [
    "## Conclustion:"
   ]
  },
  {
   "cell_type": "code",
   "execution_count": 10,
   "metadata": {},
   "outputs": [
    {
     "name": "stdout",
     "output_type": "stream",
     "text": [
      "+---------------+-------------+-----------+---------------+\n",
      "| # Conv Layers | Filter Size | Test Loss | Test Accuracy |\n",
      "+---------------+-------------+-----------+---------------+\n",
      "|       3       |    (3, 3)   |   0.0259  |     0.992     |\n",
      "|       5       |    (5, 5)   |   0.0187  |     0.9955    |\n",
      "|       7       |    (7, 7)   |   0.0237  |     0.994     |\n",
      "+---------------+-------------+-----------+---------------+\n"
     ]
    }
   ],
   "source": [
    "from prettytable import PrettyTable\n",
    "\n",
    "table = PrettyTable()\n",
    "table.field_names = ['# Conv Layers', 'Filter Size', 'Test Loss', 'Test Accuracy']\n",
    "table.add_row([3, '(3, 3)', 0.0259, 0.992])\n",
    "table.add_row([5, '(5, 5)', 0.0187, 0.9955])\n",
    "table.add_row([7, '(7, 7)', 0.0237, 0.994])\n",
    "print(table)"
   ]
  }
 ],
 "metadata": {
  "colab": {
   "collapsed_sections": [],
   "name": "CNN_MNIST.ipynb",
   "provenance": [],
   "version": "0.3.2"
  },
  "kernelspec": {
   "display_name": "Python 3",
   "language": "python",
   "name": "python3"
  },
  "language_info": {
   "codemirror_mode": {
    "name": "ipython",
    "version": 3
   },
   "file_extension": ".py",
   "mimetype": "text/x-python",
   "name": "python",
   "nbconvert_exporter": "python",
   "pygments_lexer": "ipython3",
   "version": "3.7.3"
  }
 },
 "nbformat": 4,
 "nbformat_minor": 1
}
